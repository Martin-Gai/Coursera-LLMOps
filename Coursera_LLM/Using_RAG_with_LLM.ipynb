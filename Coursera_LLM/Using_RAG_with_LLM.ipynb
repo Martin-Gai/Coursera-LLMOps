{
 "cells": [
  {
   "cell_type": "code",
   "execution_count": 14,
   "id": "4ad2722d-c421-400b-8c49-af6709de4eda",
   "metadata": {},
   "outputs": [
    {
     "name": "stderr",
     "output_type": "stream",
     "text": [
      "huggingface/tokenizers: The current process just got forked, after parallelism has already been used. Disabling parallelism to avoid deadlocks...\n",
      "To disable this warning, you can either:\n",
      "\t- Avoid using `tokenizers` before the fork if possible\n",
      "\t- Explicitly set the environment variable TOKENIZERS_PARALLELISM=(true | false)\n"
     ]
    },
    {
     "name": "stdout",
     "output_type": "stream",
     "text": [
      "\u001b[33mDEPRECATION: Configuring installation scheme with distutils config files is deprecated and will no longer work in the near future. If you are using a Homebrew or Linuxbrew Python, please see discussion at https://github.com/Homebrew/homebrew-core/issues/76621\u001b[0m\u001b[33m\n",
      "\u001b[0mRequirement already satisfied: qdrant-client in /opt/homebrew/lib/python3.9/site-packages (1.10.1)\n",
      "Requirement already satisfied: grpcio>=1.41.0 in /opt/homebrew/lib/python3.9/site-packages (from qdrant-client) (1.65.4)\n",
      "Requirement already satisfied: grpcio-tools>=1.41.0 in /opt/homebrew/lib/python3.9/site-packages (from qdrant-client) (1.65.4)\n",
      "Requirement already satisfied: httpx>=0.20.0 in /opt/homebrew/lib/python3.9/site-packages (from httpx[http2]>=0.20.0->qdrant-client) (0.27.0)\n",
      "Requirement already satisfied: numpy>=1.21 in /opt/homebrew/lib/python3.9/site-packages (from qdrant-client) (1.26.4)\n",
      "Requirement already satisfied: portalocker<3.0.0,>=2.7.0 in /opt/homebrew/lib/python3.9/site-packages (from qdrant-client) (2.10.1)\n",
      "Requirement already satisfied: pydantic>=1.10.8 in /opt/homebrew/lib/python3.9/site-packages (from qdrant-client) (1.10.17)\n",
      "Requirement already satisfied: urllib3<3,>=1.26.14 in /opt/homebrew/lib/python3.9/site-packages (from qdrant-client) (1.26.19)\n",
      "Requirement already satisfied: protobuf<6.0dev,>=5.26.1 in /opt/homebrew/lib/python3.9/site-packages (from grpcio-tools>=1.41.0->qdrant-client) (5.27.3)\n",
      "Requirement already satisfied: setuptools in /opt/homebrew/lib/python3.9/site-packages (from grpcio-tools>=1.41.0->qdrant-client) (70.3.0)\n",
      "Requirement already satisfied: anyio in /opt/homebrew/lib/python3.9/site-packages (from httpx>=0.20.0->httpx[http2]>=0.20.0->qdrant-client) (4.4.0)\n",
      "Requirement already satisfied: certifi in /opt/homebrew/lib/python3.9/site-packages (from httpx>=0.20.0->httpx[http2]>=0.20.0->qdrant-client) (2024.7.4)\n",
      "Requirement already satisfied: httpcore==1.* in /opt/homebrew/lib/python3.9/site-packages (from httpx>=0.20.0->httpx[http2]>=0.20.0->qdrant-client) (1.0.5)\n",
      "Requirement already satisfied: idna in /opt/homebrew/lib/python3.9/site-packages (from httpx>=0.20.0->httpx[http2]>=0.20.0->qdrant-client) (3.7)\n",
      "Requirement already satisfied: sniffio in /opt/homebrew/lib/python3.9/site-packages (from httpx>=0.20.0->httpx[http2]>=0.20.0->qdrant-client) (1.3.1)\n",
      "Requirement already satisfied: h11<0.15,>=0.13 in /opt/homebrew/lib/python3.9/site-packages (from httpcore==1.*->httpx>=0.20.0->httpx[http2]>=0.20.0->qdrant-client) (0.14.0)\n",
      "Requirement already satisfied: h2<5,>=3 in /opt/homebrew/lib/python3.9/site-packages (from httpx[http2]>=0.20.0->qdrant-client) (4.1.0)\n",
      "Requirement already satisfied: typing-extensions>=4.2.0 in /opt/homebrew/lib/python3.9/site-packages (from pydantic>=1.10.8->qdrant-client) (4.12.2)\n",
      "Requirement already satisfied: hyperframe<7,>=6.0 in /opt/homebrew/lib/python3.9/site-packages (from h2<5,>=3->httpx[http2]>=0.20.0->qdrant-client) (6.0.1)\n",
      "Requirement already satisfied: hpack<5,>=4.0 in /opt/homebrew/lib/python3.9/site-packages (from h2<5,>=3->httpx[http2]>=0.20.0->qdrant-client) (4.0.0)\n",
      "Requirement already satisfied: exceptiongroup>=1.0.2 in /opt/homebrew/lib/python3.9/site-packages (from anyio->httpx>=0.20.0->httpx[http2]>=0.20.0->qdrant-client) (1.2.2)\n",
      "\u001b[33mDEPRECATION: Configuring installation scheme with distutils config files is deprecated and will no longer work in the near future. If you are using a Homebrew or Linuxbrew Python, please see discussion at https://github.com/Homebrew/homebrew-core/issues/76621\u001b[0m\u001b[33m\n",
      "\u001b[0m\u001b[33mDEPRECATION: Configuring installation scheme with distutils config files is deprecated and will no longer work in the near future. If you are using a Homebrew or Linuxbrew Python, please see discussion at https://github.com/Homebrew/homebrew-core/issues/76621\u001b[0m\u001b[33m\n",
      "\u001b[0m"
     ]
    },
    {
     "name": "stderr",
     "output_type": "stream",
     "text": [
      "huggingface/tokenizers: The current process just got forked, after parallelism has already been used. Disabling parallelism to avoid deadlocks...\n",
      "To disable this warning, you can either:\n",
      "\t- Avoid using `tokenizers` before the fork if possible\n",
      "\t- Explicitly set the environment variable TOKENIZERS_PARALLELISM=(true | false)\n"
     ]
    },
    {
     "name": "stdout",
     "output_type": "stream",
     "text": [
      "Requirement already satisfied: sentence-transformers in /opt/homebrew/lib/python3.9/site-packages (3.0.1)\n",
      "Requirement already satisfied: transformers<5.0.0,>=4.34.0 in /opt/homebrew/lib/python3.9/site-packages (from sentence-transformers) (4.43.3)\n",
      "Requirement already satisfied: tqdm in /opt/homebrew/lib/python3.9/site-packages (from sentence-transformers) (4.66.5)\n",
      "Requirement already satisfied: torch>=1.11.0 in /opt/homebrew/lib/python3.9/site-packages (from sentence-transformers) (2.4.0)\n",
      "Requirement already satisfied: numpy in /opt/homebrew/lib/python3.9/site-packages (from sentence-transformers) (1.26.4)\n",
      "Requirement already satisfied: scikit-learn in /opt/homebrew/lib/python3.9/site-packages (from sentence-transformers) (1.5.1)\n",
      "Requirement already satisfied: scipy in /opt/homebrew/lib/python3.9/site-packages (from sentence-transformers) (1.13.1)\n",
      "Requirement already satisfied: huggingface-hub>=0.15.1 in /opt/homebrew/lib/python3.9/site-packages (from sentence-transformers) (0.24.5)\n",
      "Requirement already satisfied: Pillow in /opt/homebrew/lib/python3.9/site-packages (from sentence-transformers) (10.4.0)\n",
      "Requirement already satisfied: filelock in /opt/homebrew/lib/python3.9/site-packages (from huggingface-hub>=0.15.1->sentence-transformers) (3.15.4)\n",
      "Requirement already satisfied: fsspec>=2023.5.0 in /opt/homebrew/lib/python3.9/site-packages (from huggingface-hub>=0.15.1->sentence-transformers) (2024.6.1)\n",
      "Requirement already satisfied: packaging>=20.9 in /opt/homebrew/lib/python3.9/site-packages (from huggingface-hub>=0.15.1->sentence-transformers) (23.2)\n",
      "Requirement already satisfied: pyyaml>=5.1 in /opt/homebrew/lib/python3.9/site-packages (from huggingface-hub>=0.15.1->sentence-transformers) (6.0.2)\n",
      "Requirement already satisfied: requests in /opt/homebrew/lib/python3.9/site-packages (from huggingface-hub>=0.15.1->sentence-transformers) (2.31.0)\n",
      "Requirement already satisfied: typing-extensions>=3.7.4.3 in /opt/homebrew/lib/python3.9/site-packages (from huggingface-hub>=0.15.1->sentence-transformers) (4.12.2)\n",
      "Requirement already satisfied: sympy in /opt/homebrew/lib/python3.9/site-packages (from torch>=1.11.0->sentence-transformers) (1.13.1)\n",
      "Requirement already satisfied: networkx in /opt/homebrew/lib/python3.9/site-packages (from torch>=1.11.0->sentence-transformers) (3.2.1)\n",
      "Requirement already satisfied: jinja2 in /opt/homebrew/lib/python3.9/site-packages (from torch>=1.11.0->sentence-transformers) (3.1.4)\n",
      "Requirement already satisfied: regex!=2019.12.17 in /opt/homebrew/lib/python3.9/site-packages (from transformers<5.0.0,>=4.34.0->sentence-transformers) (2022.10.31)\n",
      "Requirement already satisfied: safetensors>=0.4.1 in /opt/homebrew/lib/python3.9/site-packages (from transformers<5.0.0,>=4.34.0->sentence-transformers) (0.4.3)\n",
      "Requirement already satisfied: tokenizers<0.20,>=0.19 in /opt/homebrew/lib/python3.9/site-packages (from transformers<5.0.0,>=4.34.0->sentence-transformers) (0.19.1)\n",
      "Requirement already satisfied: joblib>=1.2.0 in /opt/homebrew/lib/python3.9/site-packages (from scikit-learn->sentence-transformers) (1.4.2)\n",
      "Requirement already satisfied: threadpoolctl>=3.1.0 in /opt/homebrew/lib/python3.9/site-packages (from scikit-learn->sentence-transformers) (3.5.0)\n",
      "Requirement already satisfied: MarkupSafe>=2.0 in /opt/homebrew/lib/python3.9/site-packages (from jinja2->torch>=1.11.0->sentence-transformers) (2.1.5)\n",
      "Requirement already satisfied: charset-normalizer<4,>=2 in /opt/homebrew/lib/python3.9/site-packages (from requests->huggingface-hub>=0.15.1->sentence-transformers) (3.3.2)\n",
      "Requirement already satisfied: idna<4,>=2.5 in /opt/homebrew/lib/python3.9/site-packages (from requests->huggingface-hub>=0.15.1->sentence-transformers) (3.7)\n",
      "Requirement already satisfied: urllib3<3,>=1.21.1 in /opt/homebrew/lib/python3.9/site-packages (from requests->huggingface-hub>=0.15.1->sentence-transformers) (1.26.19)\n",
      "Requirement already satisfied: certifi>=2017.4.17 in /opt/homebrew/lib/python3.9/site-packages (from requests->huggingface-hub>=0.15.1->sentence-transformers) (2024.7.4)\n",
      "Requirement already satisfied: mpmath<1.4,>=1.1.0 in /opt/homebrew/lib/python3.9/site-packages (from sympy->torch>=1.11.0->sentence-transformers) (1.3.0)\n",
      "\u001b[33mDEPRECATION: Configuring installation scheme with distutils config files is deprecated and will no longer work in the near future. If you are using a Homebrew or Linuxbrew Python, please see discussion at https://github.com/Homebrew/homebrew-core/issues/76621\u001b[0m\u001b[33m\n",
      "\u001b[0m\u001b[33mDEPRECATION: Configuring installation scheme with distutils config files is deprecated and will no longer work in the near future. If you are using a Homebrew or Linuxbrew Python, please see discussion at https://github.com/Homebrew/homebrew-core/issues/76621\u001b[0m\u001b[33m\n",
      "\u001b[0m"
     ]
    },
    {
     "name": "stderr",
     "output_type": "stream",
     "text": [
      "huggingface/tokenizers: The current process just got forked, after parallelism has already been used. Disabling parallelism to avoid deadlocks...\n",
      "To disable this warning, you can either:\n",
      "\t- Avoid using `tokenizers` before the fork if possible\n",
      "\t- Explicitly set the environment variable TOKENIZERS_PARALLELISM=(true | false)\n"
     ]
    },
    {
     "name": "stdout",
     "output_type": "stream",
     "text": [
      "Requirement already satisfied: openai in /opt/homebrew/lib/python3.9/site-packages (1.40.2)\n",
      "Requirement already satisfied: anyio<5,>=3.5.0 in /opt/homebrew/lib/python3.9/site-packages (from openai) (4.4.0)\n",
      "Requirement already satisfied: distro<2,>=1.7.0 in /opt/homebrew/lib/python3.9/site-packages (from openai) (1.9.0)\n",
      "Requirement already satisfied: httpx<1,>=0.23.0 in /opt/homebrew/lib/python3.9/site-packages (from openai) (0.27.0)\n",
      "Requirement already satisfied: jiter<1,>=0.4.0 in /opt/homebrew/lib/python3.9/site-packages (from openai) (0.5.0)\n",
      "Requirement already satisfied: pydantic<3,>=1.9.0 in /opt/homebrew/lib/python3.9/site-packages (from openai) (1.10.17)\n",
      "Requirement already satisfied: sniffio in /opt/homebrew/lib/python3.9/site-packages (from openai) (1.3.1)\n",
      "Requirement already satisfied: tqdm>4 in /opt/homebrew/lib/python3.9/site-packages (from openai) (4.66.5)\n",
      "Requirement already satisfied: typing-extensions<5,>=4.11 in /opt/homebrew/lib/python3.9/site-packages (from openai) (4.12.2)\n",
      "Requirement already satisfied: idna>=2.8 in /opt/homebrew/lib/python3.9/site-packages (from anyio<5,>=3.5.0->openai) (3.7)\n",
      "Requirement already satisfied: exceptiongroup>=1.0.2 in /opt/homebrew/lib/python3.9/site-packages (from anyio<5,>=3.5.0->openai) (1.2.2)\n",
      "Requirement already satisfied: certifi in /opt/homebrew/lib/python3.9/site-packages (from httpx<1,>=0.23.0->openai) (2024.7.4)\n",
      "Requirement already satisfied: httpcore==1.* in /opt/homebrew/lib/python3.9/site-packages (from httpx<1,>=0.23.0->openai) (1.0.5)\n",
      "Requirement already satisfied: h11<0.15,>=0.13 in /opt/homebrew/lib/python3.9/site-packages (from httpcore==1.*->httpx<1,>=0.23.0->openai) (0.14.0)\n",
      "\u001b[33mDEPRECATION: Configuring installation scheme with distutils config files is deprecated and will no longer work in the near future. If you are using a Homebrew or Linuxbrew Python, please see discussion at https://github.com/Homebrew/homebrew-core/issues/76621\u001b[0m\u001b[33m\n",
      "\u001b[0m"
     ]
    }
   ],
   "source": [
    "!pip install qdrant-client\n",
    "!pip install sentence-transformers\n",
    "!pip install openai"
   ]
  },
  {
   "cell_type": "code",
   "execution_count": 15,
   "id": "39c9765c-6654-44c9-b427-c3c36c0609a1",
   "metadata": {},
   "outputs": [],
   "source": [
    "import pandas as pd \n",
    "\n",
    "from qdrant_client import models, QdrantClient\n",
    "from sentence_transformers import SentenceTransformer\n",
    "from openai import OpenAI"
   ]
  },
  {
   "cell_type": "code",
   "execution_count": 16,
   "id": "57ae8de9-4259-4a49-9ebf-7c8130f6fa1c",
   "metadata": {},
   "outputs": [
    {
     "data": {
      "text/plain": [
       "700"
      ]
     },
     "execution_count": 16,
     "metadata": {},
     "output_type": "execute_result"
    }
   ],
   "source": [
    "df = pd.read_csv('./top_rated_wines.csv')\n",
    "df = df[df['variety'].notna()] # remove any NaN values as it blows up serialization\n",
    "data = df.sample(700).to_dict('records') # Get only 700 records. More records will make it slower to index\n",
    "len(data)"
   ]
  },
  {
   "cell_type": "code",
   "execution_count": 17,
   "id": "aaf08a80-222d-407d-80fd-3e37e4aa073c",
   "metadata": {},
   "outputs": [],
   "source": [
    "# 1. Load a pretrained Sentence Transformer model\n",
    "encoder = SentenceTransformer('all-MiniLM-L6-v2') # Model to create embeddings\n",
    "\n",
    "\n",
    "qdrant = QdrantClient(\":memory:\") # Create in-memory Qdrant instance\n"
   ]
  },
  {
   "cell_type": "code",
   "execution_count": 18,
   "id": "a51fcde2-5005-4c20-b868-397fa98a4470",
   "metadata": {},
   "outputs": [
    {
     "name": "stderr",
     "output_type": "stream",
     "text": [
      "/var/folders/3y/5lptrc3107l6vgh7khxqmsyc0000gn/T/ipykernel_22182/3075695827.py:2: DeprecationWarning: `recreate_collection` method is deprecated and will be removed in the future. Use `collection_exists` to check collection existence and `create_collection` instead.\n",
      "  qdrant.recreate_collection(\n"
     ]
    },
    {
     "data": {
      "text/plain": [
       "True"
      ]
     },
     "execution_count": 18,
     "metadata": {},
     "output_type": "execute_result"
    }
   ],
   "source": [
    "# Create collection to store wines\n",
    "qdrant.recreate_collection(\n",
    "    collection_name=\"top_wines\",\n",
    "    vectors_config=models.VectorParams(\n",
    "        size=encoder.get_sentence_embedding_dimension(), # Vector size is defined by used model\n",
    "        distance=models.Distance.COSINE\n",
    "    )\n",
    ")"
   ]
  },
  {
   "cell_type": "code",
   "execution_count": 19,
   "id": "ab1e8dcf-9b24-4288-b1d8-1c4694de4cfa",
   "metadata": {},
   "outputs": [],
   "source": [
    "# vectorize!\n",
    "qdrant.upload_points(\n",
    "    collection_name=\"top_wines\",\n",
    "    points=[\n",
    "        models.PointStruct(\n",
    "            id=idx,\n",
    "            vector=encoder.encode(doc[\"notes\"]).tolist(),\n",
    "            payload=doc,\n",
    "        ) for idx, doc in enumerate(data) # data is the variable holding all the wines\n",
    "    ]\n",
    ")"
   ]
  },
  {
   "cell_type": "code",
   "execution_count": 20,
   "id": "41c2545c-78c7-4d0c-8659-ce95aab9f363",
   "metadata": {},
   "outputs": [],
   "source": [
    "user_prompt = \"Suggest me wines from Australia\"\n"
   ]
  },
  {
   "cell_type": "code",
   "execution_count": 21,
   "id": "0839d8fb-6e3f-4cdc-888c-e7bc4b548dfc",
   "metadata": {},
   "outputs": [
    {
     "name": "stdout",
     "output_type": "stream",
     "text": [
      "{'name': 'Greenock Creek Alices Shiraz 2002', 'region': 'Barossa Valley, Barossa, South Australia, Australia', 'variety': 'Red Wine', 'rating': 96.0, 'notes': 'Rich and fleshy, with pretty coffee, plum, wild berry and spice notes that are smooth and polished, long and flavorful.  An extremely limited release wine from one of Australia\\'s \"Cult\" wineries.'} score: 0.6388254823915379\n",
      "{'name': \"Greenock Creek Alice's Shiraz 2003\", 'region': 'Barossa Valley, Barossa, South Australia, Australia', 'variety': 'Red Wine', 'rating': 97.0, 'notes': 'Rich and fleshy, with pretty coffee, plum, wild berry and spice notes that are smooth and polished, long and flavorful.  An extremely limited release wine from one of Australia\\'s \"Cult\" wineries.'} score: 0.6388254823915379\n",
      "{'name': 'Domaine du Coulet Cornas Billes Noires 2009', 'region': 'Cornas, Rhone, France', 'variety': 'Red Wine', 'rating': 96.0, 'notes': 'This is a concentrated and austere wine during its youth.  Minerality is expressed throughout the palate and on the finish.  '} score: 0.5349861700290481\n",
      "{'name': 'Domaine de la Romanee-Conti Grands Echezeaux Grand Cru 2005', 'region': 'Burgundy, France', 'variety': 'Red Wine', 'rating': 96.0, 'notes': '95-96 Wine Advocate'} score: 0.5013355822823645\n",
      "{'name': 'Abreu Vineyards Howell Mountain 2009', 'region': 'Howell Mountain, Napa Valley, California', 'variety': 'Red Wine', 'rating': 98.0, 'notes': 'As a set of wines, it is hard to surpass the four cuvees from the estate vineyards of David Abreu. As I have written many times in the past, all of these wines are truly world-class efforts that stand alongside proprietary red wines made from Bordeaux varietals from any appellation in the world. '} score: 0.4993910428422823\n",
      "{'name': 'Bruno Rocca Barbaresco Rabaja 2000', 'region': 'Barbaresco, Piedmont, Italy', 'variety': 'Red Wine', 'rating': 97.0, 'notes': 'Unbelievable aromas, with rich, ripe plum but also mineral, tobacco and cedar undertones. Full-bodied, with lovely ripe tannins and a unctuous combination of ripe fruit and light toasty oak. Goes on and on. Fabulous. Greatest wine ever from Bruno Rocca. Best after 2007. 1,500 cases made. (JS)'} score: 0.4949020692044017\n",
      "{'name': 'Chateau Lafite Rothschild (Futures Pre-Sale) 2019', 'region': 'Pauillac, Bordeaux, France', 'variety': 'Red Wine', 'rating': 99.0, 'notes': 'The first tastings, after running the wines off skins, leftus amazed : the wines are pure, with a very preciseripe style'} score: 0.4898581960764301\n",
      "{'name': 'Chateau Lafite Rothschild (6-Pack OWC Futures Pre-Sale) 2019', 'region': 'Pauillac, Bordeaux, France', 'variety': 'Red Wine', 'rating': 99.0, 'notes': 'The first tastings, after running the wines off skins, leftus amazed : the wines are pure, with a very preciseripe style'} score: 0.4898581960764301\n",
      "{'name': 'Chateau Larcis-Ducasse (Futures Pre-Sale) 2019', 'region': 'St. Emilion, Bordeaux, France', 'variety': 'Red Wine', 'rating': 96.0, 'notes': '*Please note that the price on Wine.com of this 2019 Bordeaux Future '} score: 0.4893122450825398\n",
      "{'name': 'Chateau Latour (stained label) 1996', 'region': 'Pauillac, Bordeaux, France', 'variety': 'Red Wine', 'rating': 96.0, 'notes': 'A little austere at first compared to the previous vintage, the concentration of this wine then takes on a delightfully rich aspect: it combines a surprisingly classic, balanced, solid tannic structure that has perfect, plump tannins thanks to a superb maturity, with very pure fruit.'} score: 0.4884521253094021\n"
     ]
    }
   ],
   "source": [
    "# Search time for awesome wines!\n",
    "\n",
    "hits = qdrant.search(\n",
    "    collection_name=\"top_wines\",\n",
    "    query_vector=encoder.encode(user_prompt).tolist(),\n",
    "    limit=10\n",
    ")\n",
    "for hit in hits:\n",
    "  print(hit.payload, \"score:\", hit.score)"
   ]
  },
  {
   "cell_type": "code",
   "execution_count": 22,
   "id": "c02d3015-e70c-4e0f-82cf-dd70fcc88cb9",
   "metadata": {},
   "outputs": [
    {
     "data": {
      "text/plain": [
       "[{'name': 'Greenock Creek Alices Shiraz 2002',\n",
       "  'region': 'Barossa Valley, Barossa, South Australia, Australia',\n",
       "  'variety': 'Red Wine',\n",
       "  'rating': 96.0,\n",
       "  'notes': 'Rich and fleshy, with pretty coffee, plum, wild berry and spice notes that are smooth and polished, long and flavorful.  An extremely limited release wine from one of Australia\\'s \"Cult\" wineries.'},\n",
       " {'name': \"Greenock Creek Alice's Shiraz 2003\",\n",
       "  'region': 'Barossa Valley, Barossa, South Australia, Australia',\n",
       "  'variety': 'Red Wine',\n",
       "  'rating': 97.0,\n",
       "  'notes': 'Rich and fleshy, with pretty coffee, plum, wild berry and spice notes that are smooth and polished, long and flavorful.  An extremely limited release wine from one of Australia\\'s \"Cult\" wineries.'},\n",
       " {'name': 'Domaine du Coulet Cornas Billes Noires 2009',\n",
       "  'region': 'Cornas, Rhone, France',\n",
       "  'variety': 'Red Wine',\n",
       "  'rating': 96.0,\n",
       "  'notes': 'This is a concentrated and austere wine during its youth.  Minerality is expressed throughout the palate and on the finish.  '},\n",
       " {'name': 'Domaine de la Romanee-Conti Grands Echezeaux Grand Cru 2005',\n",
       "  'region': 'Burgundy, France',\n",
       "  'variety': 'Red Wine',\n",
       "  'rating': 96.0,\n",
       "  'notes': '95-96 Wine Advocate'},\n",
       " {'name': 'Abreu Vineyards Howell Mountain 2009',\n",
       "  'region': 'Howell Mountain, Napa Valley, California',\n",
       "  'variety': 'Red Wine',\n",
       "  'rating': 98.0,\n",
       "  'notes': 'As a set of wines, it is hard to surpass the four cuvees from the estate vineyards of David Abreu. As I have written many times in the past, all of these wines are truly world-class efforts that stand alongside proprietary red wines made from Bordeaux varietals from any appellation in the world. '},\n",
       " {'name': 'Bruno Rocca Barbaresco Rabaja 2000',\n",
       "  'region': 'Barbaresco, Piedmont, Italy',\n",
       "  'variety': 'Red Wine',\n",
       "  'rating': 97.0,\n",
       "  'notes': 'Unbelievable aromas, with rich, ripe plum but also mineral, tobacco and cedar undertones. Full-bodied, with lovely ripe tannins and a unctuous combination of ripe fruit and light toasty oak. Goes on and on. Fabulous. Greatest wine ever from Bruno Rocca. Best after 2007. 1,500 cases made. (JS)'},\n",
       " {'name': 'Chateau Lafite Rothschild (Futures Pre-Sale) 2019',\n",
       "  'region': 'Pauillac, Bordeaux, France',\n",
       "  'variety': 'Red Wine',\n",
       "  'rating': 99.0,\n",
       "  'notes': 'The first tastings, after running the wines off skins, leftus amazed : the wines are pure, with a very preciseripe style'},\n",
       " {'name': 'Chateau Lafite Rothschild (6-Pack OWC Futures Pre-Sale) 2019',\n",
       "  'region': 'Pauillac, Bordeaux, France',\n",
       "  'variety': 'Red Wine',\n",
       "  'rating': 99.0,\n",
       "  'notes': 'The first tastings, after running the wines off skins, leftus amazed : the wines are pure, with a very preciseripe style'},\n",
       " {'name': 'Chateau Larcis-Ducasse (Futures Pre-Sale) 2019',\n",
       "  'region': 'St. Emilion, Bordeaux, France',\n",
       "  'variety': 'Red Wine',\n",
       "  'rating': 96.0,\n",
       "  'notes': '*Please note that the price on Wine.com of this 2019 Bordeaux Future '},\n",
       " {'name': 'Chateau Latour (stained label) 1996',\n",
       "  'region': 'Pauillac, Bordeaux, France',\n",
       "  'variety': 'Red Wine',\n",
       "  'rating': 96.0,\n",
       "  'notes': 'A little austere at first compared to the previous vintage, the concentration of this wine then takes on a delightfully rich aspect: it combines a surprisingly classic, balanced, solid tannic structure that has perfect, plump tannins thanks to a superb maturity, with very pure fruit.'}]"
      ]
     },
     "execution_count": 22,
     "metadata": {},
     "output_type": "execute_result"
    }
   ],
   "source": [
    "\n",
    "# define a variable to hold the search results\n",
    "search_results = [hit.payload for hit in hits]\n",
    "search_results"
   ]
  },
  {
   "cell_type": "code",
   "execution_count": 23,
   "id": "2aa8feea-ee8f-4e09-8d2b-8b4216156f27",
   "metadata": {},
   "outputs": [],
   "source": [
    "# If using GPT API; Be sure to set the env variable and then run this line\n",
    "\n",
    "# client = OpenAI()"
   ]
  },
  {
   "cell_type": "code",
   "execution_count": 24,
   "id": "46e4fa44-775a-44d1-ba68-413ac939a2fb",
   "metadata": {},
   "outputs": [],
   "source": [
    "# Run LLM locally with Llamafile with command: \n",
    "    # ./llava-v1.5-7b-q4.llamafile\n",
    "\n",
    "# https://github.com/Mozilla-Ocho/llamafile?tab=readme-ov-file\n",
    "# https://www.notion.so/Week-3-cc979d673e784975aa37afa507cfdaf9"
   ]
  },
  {
   "cell_type": "code",
   "execution_count": 25,
   "id": "c6bb9aa3-a2de-4388-b430-1f610e2efed9",
   "metadata": {},
   "outputs": [
    {
     "name": "stdout",
     "output_type": "stream",
     "text": [
      "ChatCompletionMessage(content=\"Sure, I'd be happy to help you pick a great wine from Australia. One of the most highly regarded wineries in Australia is Greenock Creek, known for producing some of the best Shiraz wines in the country. Their 2002 and 2003 vintages are particularly sought after and highly rated by wine critics. These wines are rich and fleshy with notes of coffee, plum, wild berry and spice, and are known for their smooth and polished finish.\\n\\nAnother option to consider is Domaine du Coulet Cornas Billes Noires 2009. This wine is known for its concentrated and austere profile, with mineral notes throughout the palate and on the finish.\\n\\nIf you're looking for a more expensive option, the Domaine de la Romanee-Conti Grands Echezeaux Grand Cru 2005 is a highly regarded wine from Burgundy, France. It is known for its 96-97 point rating from Wine Advocate.\\n\\nFor a more unique option, Abreu Vineyards Howell Mountain 2009 is a great choice. This wine is known for its full-bodied profile and unctuous combination of ripe fruit and light toasty oak.\\n\\nLastly, Bruno Rocca Barbaresco Rabaja 2000 is a highly regarded wine from Italy. It is known for its rich, ripe plum notes, as well as mineral, tobacco and cedar undertones. It has full-bodied profile with lovely ripe tannins and a unctuous combination of ripe fruit and light toasty oak.\\n\\nI hope this helps you find the perfect wine! Let me know if you have any other questions.</s>\", refusal=None, role='assistant', function_call=None, tool_calls=None)\n"
     ]
    }
   ],
   "source": [
    "\n",
    "client = OpenAI(\n",
    "    base_url=\"http://127.0.0.1:8080/v1\", # \"http://<Your api-server IP>:port\"\n",
    "    api_key = \"sk-no-key-required\"\n",
    ")\n",
    "\n",
    "completion = client.chat.completions.create(\n",
    "    model=\"llama.cpp\",\n",
    "    messages=[\n",
    "        {\"role\": \"system\", \"content\": \"You are chatbot, a wine specialist. Your top priority is to help guide users into selecting amazing wine and guide them with their requests.\"},\n",
    "        {\"role\": \"user\", \"content\": \"Help me pick a great wine from Australia and describe it's taste\"},\n",
    "        {\"role\": \"assistant\", \"content\": str(search_results)}\n",
    "    ]\n",
    ")\n",
    "print(completion.choices[0].message)\n",
    "\n"
   ]
  },
  {
   "cell_type": "code",
   "execution_count": null,
   "id": "a4f502ad-93ed-4f8e-83b6-1aa9b2da0449",
   "metadata": {},
   "outputs": [],
   "source": []
  }
 ],
 "metadata": {
  "kernelspec": {
   "display_name": "Python 3 (ipykernel)",
   "language": "python",
   "name": "python3"
  },
  "language_info": {
   "codemirror_mode": {
    "name": "ipython",
    "version": 3
   },
   "file_extension": ".py",
   "mimetype": "text/x-python",
   "name": "python",
   "nbconvert_exporter": "python",
   "pygments_lexer": "ipython3",
   "version": "3.9.19"
  }
 },
 "nbformat": 4,
 "nbformat_minor": 5
}
